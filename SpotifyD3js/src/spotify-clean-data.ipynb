{
 "cells": [
  {
   "cell_type": "code",
   "execution_count": 1,
   "id": "6acc0b96",
   "metadata": {},
   "outputs": [],
   "source": [
    "import pandas as pd"
   ]
  },
  {
   "cell_type": "code",
   "execution_count": 2,
   "id": "70b949ab",
   "metadata": {},
   "outputs": [],
   "source": [
    "df = pd.read_csv('top10s.csv', encoding='ISO-8859-1')"
   ]
  },
  {
   "cell_type": "code",
   "execution_count": 3,
   "id": "077c9c97",
   "metadata": {},
   "outputs": [],
   "source": [
    "import random"
   ]
  },
  {
   "cell_type": "code",
   "execution_count": 8,
   "id": "b8eabda0",
   "metadata": {},
   "outputs": [],
   "source": [
    "df['year2'] = df.year.apply(lambda x: x + random.random())"
   ]
  },
  {
   "cell_type": "code",
   "execution_count": 10,
   "id": "44d12de0",
   "metadata": {},
   "outputs": [],
   "source": [
    "df.to_csv('top10s-2.csv')"
   ]
  },
  {
   "cell_type": "code",
   "execution_count": 11,
   "id": "7a6ae294",
   "metadata": {},
   "outputs": [
    {
     "data": {
      "text/plain": [
       "603"
      ]
     },
     "execution_count": 11,
     "metadata": {},
     "output_type": "execute_result"
    }
   ],
   "source": [
    "len(df)"
   ]
  },
  {
   "cell_type": "code",
   "execution_count": 14,
   "id": "ccb79645",
   "metadata": {},
   "outputs": [
    {
     "data": {
      "text/plain": [
       "50"
      ]
     },
     "execution_count": 14,
     "metadata": {},
     "output_type": "execute_result"
    }
   ],
   "source": [
    "df['top genre'].nunique()"
   ]
  },
  {
   "cell_type": "code",
   "execution_count": 22,
   "id": "ecb8a0a8",
   "metadata": {},
   "outputs": [],
   "source": [
    "df_new = []\n",
    "\n",
    "for i, v in df.iterrows():\n",
    "    if int(str(i)[-1]) < 1:\n",
    "        df_new.append(v)\n",
    "        "
   ]
  },
  {
   "cell_type": "code",
   "execution_count": 23,
   "id": "62b5daaa",
   "metadata": {},
   "outputs": [],
   "source": [
    "df_2 = pd.DataFrame(df_new)"
   ]
  },
  {
   "cell_type": "code",
   "execution_count": 24,
   "id": "0a15920a",
   "metadata": {},
   "outputs": [],
   "source": [
    "df_2.to_csv('top10s-3.csv')"
   ]
  },
  {
   "cell_type": "code",
   "execution_count": 27,
   "id": "0506a5f2",
   "metadata": {},
   "outputs": [
    {
     "data": {
      "text/plain": [
       "count    61.000000\n",
       "mean     66.147541\n",
       "std      15.877485\n",
       "min       0.000000\n",
       "25%      60.000000\n",
       "50%      70.000000\n",
       "75%      76.000000\n",
       "max      90.000000\n",
       "Name: pop, dtype: float64"
      ]
     },
     "execution_count": 27,
     "metadata": {},
     "output_type": "execute_result"
    }
   ],
   "source": [
    "df_2['pop'].describe()"
   ]
  },
  {
   "cell_type": "code",
   "execution_count": null,
   "id": "daa4d4c0",
   "metadata": {},
   "outputs": [],
   "source": []
  }
 ],
 "metadata": {
  "kernelspec": {
   "display_name": "Python 3 (ipykernel)",
   "language": "python",
   "name": "python3"
  },
  "language_info": {
   "codemirror_mode": {
    "name": "ipython",
    "version": 3
   },
   "file_extension": ".py",
   "mimetype": "text/x-python",
   "name": "python",
   "nbconvert_exporter": "python",
   "pygments_lexer": "ipython3",
   "version": "3.9.12"
  }
 },
 "nbformat": 4,
 "nbformat_minor": 5
}
